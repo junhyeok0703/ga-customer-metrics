{
 "cells": [
  {
   "cell_type": "markdown",
   "id": "20d246e4",
   "metadata": {},
   "source": [
    "### 필수과제1\n",
    "- medium, source에 대한 예산을 집행한다고 했을 때 -> 크게 medium, source 예산을 가정해서 만들고 (예산 금액은 임의로 10억 미만 선으로) \n",
    "- 해당 예산을 스프레드해서 예산 컬럼을 만들고 -> 컬럼 기준으로 효율성을 분석해 보자\n",
    "- 예산과 pageviews, hits, visits에 따른 효율성을 측정하는 지표를 만들어 주세요!\n",
    "- plotly를 통해 해당 효율성 지표의 시각화를 보여주시면 됩니다.\n",
    "    - 시각화는 line, sunbrust 등등 가장 효율적으로 잘 보여줄 수 있는 시각화 방법이면 됩니다!\n",
    "    - 어떤 traffic이 가장 효율적이고, 비효율적인지?\n",
    "    - 두 개를 계산하여서 시각적으로 보여주시면 됩니다!"
   ]
  },
  {
   "cell_type": "markdown",
   "id": "90eec9dc",
   "metadata": {},
   "source": [
    "# 📊 필수과제 1: 트래픽 예산 효율성 분석\n",
    "\n",
    "## ✅ 과제 목표\n",
    "- `source`, `medium` 조합별로 예산을 집행했다고 가정하고,\n",
    "- `pageviews`, `hits`, `visits` 기준 성과를 통해 **1000원당 효율성 지표**를 계산한다.\n",
    "- Plotly 등 시각화 도구를 통해 **가장 효율적 / 비효율적 트래픽**을 시각적으로 비교한다.\n"
   ]
  },
  {
   "cell_type": "markdown",
   "id": "9ad75f21",
   "metadata": {},
   "source": [
    "### ✅ Step 1. 데이터 준비\n",
    "\n",
    "- 기준 데이터: `agg_df_sm` (날짜별 집계된 트래픽 데이터)\n",
    "- 포함 컬럼: `source`, `medium`, `pageviews`, `hits`, `visits`\n",
    "\n",
    "```python\n",
    "agg_df_sm.head()\n"
   ]
  },
  {
   "cell_type": "code",
   "execution_count": null,
   "id": "184c8c13",
   "metadata": {},
   "outputs": [],
   "source": [
    "import pandas as pd\n",
    "import numpy as np\n",
    "import json\n",
    "\n",
    "# 데이터 로드\n",
    "df = pd.read_csv('/Users/parkjunhyeok/Desktop/BDA_/지표/data/ga.csv')\n",
    "\n",
    "# JSON 컬럼 파싱\n",
    "df['totals'] = df['totals'].apply(json.loads)\n",
    "df['trafficSource'] = df['trafficSource'].apply(json.loads)\n",
    "\n",
    "# 수치형 값 추출 (결측 시 0)\n",
    "df['pageviews'] = df['totals'].apply(lambda x: int(x.get('pageviews', 0)))\n",
    "df['hits'] = df['totals'].apply(lambda x: int(x.get('hits', 0)))\n",
    "df['visits'] = df['totals'].apply(lambda x: int(x.get('visits', 0)))\n",
    "\n",
    "# 트래픽 정보 추출 및 정제\n",
    "df['source'] = df['trafficSource'].apply(lambda x: x.get('source', '(not set)')).str.strip()\n",
    "df['medium'] = df['trafficSource'].apply(lambda x: x.get('medium', '(not set)')).str.strip()\n",
    "df['date'] = df['date'].astype(str)\n"
   ]
  },
  {
   "cell_type": "markdown",
   "id": "87c0f2ec",
   "metadata": {},
   "source": [
    "### ✅ Step 2. 트래픽 집계 테이블 생성"
   ]
  },
  {
   "cell_type": "code",
   "execution_count": 4,
   "id": "cafd933c",
   "metadata": {},
   "outputs": [],
   "source": [
    "# (source, medium) 단위로 집계\n",
    "agg_df_sm = df.groupby(['source', 'medium'], as_index=False)[['pageviews', 'hits', 'visits']].sum()\n"
   ]
  },
  {
   "cell_type": "markdown",
   "id": "f7a61125",
   "metadata": {},
   "source": [
    "### ✅ Step 3. 예산 스프레드 (총 10억 원)"
   ]
  },
  {
   "cell_type": "code",
   "execution_count": 5,
   "id": "1b9649bb",
   "metadata": {},
   "outputs": [],
   "source": [
    "# 총 예산 가정\n",
    "total_budget = 1_000_000_000\n",
    "np.random.seed(42)\n",
    "\n",
    "# 랜덤 비율 생성 → 전체 합이 1이 되도록 정규화\n",
    "rand_weights = np.random.rand(len(agg_df_sm))\n",
    "rand_weights /= rand_weights.sum()\n",
    "\n",
    "# 각 조합별 예산 분배\n",
    "agg_df_sm['budget'] = (rand_weights * total_budget).astype(int)\n"
   ]
  },
  {
   "cell_type": "markdown",
   "id": "a1493b33",
   "metadata": {},
   "source": [
    "### ✅ Step 4. 효율성 지표 계산\n",
    "예산에 1000원당 성과로 했음"
   ]
  },
  {
   "cell_type": "code",
   "execution_count": 6,
   "id": "52c43e37",
   "metadata": {},
   "outputs": [],
   "source": [
    "# 1000원당 성과\n",
    "agg_df_sm['pageviews_per_1000won'] = agg_df_sm['pageviews'] / (agg_df_sm['budget'] / 1000)\n",
    "agg_df_sm['hits_per_1000won'] = agg_df_sm['hits'] / (agg_df_sm['budget'] / 1000)\n",
    "agg_df_sm['visits_per_1000won'] = agg_df_sm['visits'] / (agg_df_sm['budget'] / 1000)\n",
    "\n",
    "# 시각화를 위한 식별자\n",
    "agg_df_sm['combo'] = agg_df_sm['medium'] + ' / ' + agg_df_sm['source']\n"
   ]
  },
  {
   "cell_type": "markdown",
   "id": "7e94f8f9",
   "metadata": {},
   "source": [
    "### ✅ Step 5. 효율 상위/하위 10개 트래픽 추출"
   ]
  },
  {
   "cell_type": "code",
   "execution_count": 7,
   "id": "b999c460",
   "metadata": {},
   "outputs": [],
   "source": [
    "top10 = agg_df_sm.sort_values('pageviews_per_1000won', ascending=False).head(10)\n",
    "bottom10 = agg_df_sm.sort_values('pageviews_per_1000won', ascending=True).head(10)\n"
   ]
  },
  {
   "cell_type": "markdown",
   "id": "8354eca2",
   "metadata": {},
   "source": [
    "### ✅ Step 6. 시각화 (matplotlib 버전 – 정적 그래프)"
   ]
  },
  {
   "cell_type": "code",
   "execution_count": 8,
   "id": "0135dbdb",
   "metadata": {},
   "outputs": [
    {
     "data": {
      "application/vnd.plotly.v1+json": {
       "config": {
        "plotlyServerURL": "https://plotly.com"
       },
       "data": [
        {
         "alignmentgroup": "True",
         "hovertemplate": "pageviews_per_1000won=%{marker.color}<br>combo=%{y}<extra></extra>",
         "legendgroup": "",
         "marker": {
          "color": [
           4.999736949432587,
           4.926126374556613,
           3.152750246565848,
           0.9129111913380374,
           0.11047262996754209,
           0.09489329256793923,
           0.09138343429095233,
           0.07465970169165421,
           0.07310763845332294,
           0.05811308703271129
          ],
          "coloraxis": "coloraxis",
          "pattern": {
           "shape": ""
          }
         },
         "name": "",
         "offsetgroup": "",
         "orientation": "h",
         "showlegend": false,
         "textposition": "auto",
         "type": "bar",
         "x": [
          4.999736949432587,
          4.926126374556613,
          3.152750246565848,
          0.9129111913380374,
          0.11047262996754209,
          0.09489329256793923,
          0.09138343429095233,
          0.07465970169165421,
          0.07310763845332294,
          0.05811308703271129
         ],
         "xaxis": "x",
         "y": [
          "referral / mall.googleplex.com",
          "organic / google",
          "(none) / (direct)",
          "cpc / google",
          "cpm / dfa",
          "referral / groups.google.com",
          "referral / mail.google.com",
          "referral / t.co",
          "organic / bing",
          "referral / siliconvalley.about.com"
         ],
         "yaxis": "y"
        }
       ],
       "layout": {
        "barmode": "relative",
        "coloraxis": {
         "colorbar": {
          "title": {
           "text": "pageviews_per_1000won"
          }
         },
         "colorscale": [
          [
           0,
           "rgb(247,251,255)"
          ],
          [
           0.125,
           "rgb(222,235,247)"
          ],
          [
           0.25,
           "rgb(198,219,239)"
          ],
          [
           0.375,
           "rgb(158,202,225)"
          ],
          [
           0.5,
           "rgb(107,174,214)"
          ],
          [
           0.625,
           "rgb(66,146,198)"
          ],
          [
           0.75,
           "rgb(33,113,181)"
          ],
          [
           0.875,
           "rgb(8,81,156)"
          ],
          [
           1,
           "rgb(8,48,107)"
          ]
         ]
        },
        "legend": {
         "tracegroupgap": 0
        },
        "template": {
         "data": {
          "bar": [
           {
            "error_x": {
             "color": "#2a3f5f"
            },
            "error_y": {
             "color": "#2a3f5f"
            },
            "marker": {
             "line": {
              "color": "#E5ECF6",
              "width": 0.5
             },
             "pattern": {
              "fillmode": "overlay",
              "size": 10,
              "solidity": 0.2
             }
            },
            "type": "bar"
           }
          ],
          "barpolar": [
           {
            "marker": {
             "line": {
              "color": "#E5ECF6",
              "width": 0.5
             },
             "pattern": {
              "fillmode": "overlay",
              "size": 10,
              "solidity": 0.2
             }
            },
            "type": "barpolar"
           }
          ],
          "carpet": [
           {
            "aaxis": {
             "endlinecolor": "#2a3f5f",
             "gridcolor": "white",
             "linecolor": "white",
             "minorgridcolor": "white",
             "startlinecolor": "#2a3f5f"
            },
            "baxis": {
             "endlinecolor": "#2a3f5f",
             "gridcolor": "white",
             "linecolor": "white",
             "minorgridcolor": "white",
             "startlinecolor": "#2a3f5f"
            },
            "type": "carpet"
           }
          ],
          "choropleth": [
           {
            "colorbar": {
             "outlinewidth": 0,
             "ticks": ""
            },
            "type": "choropleth"
           }
          ],
          "contour": [
           {
            "colorbar": {
             "outlinewidth": 0,
             "ticks": ""
            },
            "colorscale": [
             [
              0,
              "#0d0887"
             ],
             [
              0.1111111111111111,
              "#46039f"
             ],
             [
              0.2222222222222222,
              "#7201a8"
             ],
             [
              0.3333333333333333,
              "#9c179e"
             ],
             [
              0.4444444444444444,
              "#bd3786"
             ],
             [
              0.5555555555555556,
              "#d8576b"
             ],
             [
              0.6666666666666666,
              "#ed7953"
             ],
             [
              0.7777777777777778,
              "#fb9f3a"
             ],
             [
              0.8888888888888888,
              "#fdca26"
             ],
             [
              1,
              "#f0f921"
             ]
            ],
            "type": "contour"
           }
          ],
          "contourcarpet": [
           {
            "colorbar": {
             "outlinewidth": 0,
             "ticks": ""
            },
            "type": "contourcarpet"
           }
          ],
          "heatmap": [
           {
            "colorbar": {
             "outlinewidth": 0,
             "ticks": ""
            },
            "colorscale": [
             [
              0,
              "#0d0887"
             ],
             [
              0.1111111111111111,
              "#46039f"
             ],
             [
              0.2222222222222222,
              "#7201a8"
             ],
             [
              0.3333333333333333,
              "#9c179e"
             ],
             [
              0.4444444444444444,
              "#bd3786"
             ],
             [
              0.5555555555555556,
              "#d8576b"
             ],
             [
              0.6666666666666666,
              "#ed7953"
             ],
             [
              0.7777777777777778,
              "#fb9f3a"
             ],
             [
              0.8888888888888888,
              "#fdca26"
             ],
             [
              1,
              "#f0f921"
             ]
            ],
            "type": "heatmap"
           }
          ],
          "heatmapgl": [
           {
            "colorbar": {
             "outlinewidth": 0,
             "ticks": ""
            },
            "colorscale": [
             [
              0,
              "#0d0887"
             ],
             [
              0.1111111111111111,
              "#46039f"
             ],
             [
              0.2222222222222222,
              "#7201a8"
             ],
             [
              0.3333333333333333,
              "#9c179e"
             ],
             [
              0.4444444444444444,
              "#bd3786"
             ],
             [
              0.5555555555555556,
              "#d8576b"
             ],
             [
              0.6666666666666666,
              "#ed7953"
             ],
             [
              0.7777777777777778,
              "#fb9f3a"
             ],
             [
              0.8888888888888888,
              "#fdca26"
             ],
             [
              1,
              "#f0f921"
             ]
            ],
            "type": "heatmapgl"
           }
          ],
          "histogram": [
           {
            "marker": {
             "pattern": {
              "fillmode": "overlay",
              "size": 10,
              "solidity": 0.2
             }
            },
            "type": "histogram"
           }
          ],
          "histogram2d": [
           {
            "colorbar": {
             "outlinewidth": 0,
             "ticks": ""
            },
            "colorscale": [
             [
              0,
              "#0d0887"
             ],
             [
              0.1111111111111111,
              "#46039f"
             ],
             [
              0.2222222222222222,
              "#7201a8"
             ],
             [
              0.3333333333333333,
              "#9c179e"
             ],
             [
              0.4444444444444444,
              "#bd3786"
             ],
             [
              0.5555555555555556,
              "#d8576b"
             ],
             [
              0.6666666666666666,
              "#ed7953"
             ],
             [
              0.7777777777777778,
              "#fb9f3a"
             ],
             [
              0.8888888888888888,
              "#fdca26"
             ],
             [
              1,
              "#f0f921"
             ]
            ],
            "type": "histogram2d"
           }
          ],
          "histogram2dcontour": [
           {
            "colorbar": {
             "outlinewidth": 0,
             "ticks": ""
            },
            "colorscale": [
             [
              0,
              "#0d0887"
             ],
             [
              0.1111111111111111,
              "#46039f"
             ],
             [
              0.2222222222222222,
              "#7201a8"
             ],
             [
              0.3333333333333333,
              "#9c179e"
             ],
             [
              0.4444444444444444,
              "#bd3786"
             ],
             [
              0.5555555555555556,
              "#d8576b"
             ],
             [
              0.6666666666666666,
              "#ed7953"
             ],
             [
              0.7777777777777778,
              "#fb9f3a"
             ],
             [
              0.8888888888888888,
              "#fdca26"
             ],
             [
              1,
              "#f0f921"
             ]
            ],
            "type": "histogram2dcontour"
           }
          ],
          "mesh3d": [
           {
            "colorbar": {
             "outlinewidth": 0,
             "ticks": ""
            },
            "type": "mesh3d"
           }
          ],
          "parcoords": [
           {
            "line": {
             "colorbar": {
              "outlinewidth": 0,
              "ticks": ""
             }
            },
            "type": "parcoords"
           }
          ],
          "pie": [
           {
            "automargin": true,
            "type": "pie"
           }
          ],
          "scatter": [
           {
            "fillpattern": {
             "fillmode": "overlay",
             "size": 10,
             "solidity": 0.2
            },
            "type": "scatter"
           }
          ],
          "scatter3d": [
           {
            "line": {
             "colorbar": {
              "outlinewidth": 0,
              "ticks": ""
             }
            },
            "marker": {
             "colorbar": {
              "outlinewidth": 0,
              "ticks": ""
             }
            },
            "type": "scatter3d"
           }
          ],
          "scattercarpet": [
           {
            "marker": {
             "colorbar": {
              "outlinewidth": 0,
              "ticks": ""
             }
            },
            "type": "scattercarpet"
           }
          ],
          "scattergeo": [
           {
            "marker": {
             "colorbar": {
              "outlinewidth": 0,
              "ticks": ""
             }
            },
            "type": "scattergeo"
           }
          ],
          "scattergl": [
           {
            "marker": {
             "colorbar": {
              "outlinewidth": 0,
              "ticks": ""
             }
            },
            "type": "scattergl"
           }
          ],
          "scattermapbox": [
           {
            "marker": {
             "colorbar": {
              "outlinewidth": 0,
              "ticks": ""
             }
            },
            "type": "scattermapbox"
           }
          ],
          "scatterpolar": [
           {
            "marker": {
             "colorbar": {
              "outlinewidth": 0,
              "ticks": ""
             }
            },
            "type": "scatterpolar"
           }
          ],
          "scatterpolargl": [
           {
            "marker": {
             "colorbar": {
              "outlinewidth": 0,
              "ticks": ""
             }
            },
            "type": "scatterpolargl"
           }
          ],
          "scatterternary": [
           {
            "marker": {
             "colorbar": {
              "outlinewidth": 0,
              "ticks": ""
             }
            },
            "type": "scatterternary"
           }
          ],
          "surface": [
           {
            "colorbar": {
             "outlinewidth": 0,
             "ticks": ""
            },
            "colorscale": [
             [
              0,
              "#0d0887"
             ],
             [
              0.1111111111111111,
              "#46039f"
             ],
             [
              0.2222222222222222,
              "#7201a8"
             ],
             [
              0.3333333333333333,
              "#9c179e"
             ],
             [
              0.4444444444444444,
              "#bd3786"
             ],
             [
              0.5555555555555556,
              "#d8576b"
             ],
             [
              0.6666666666666666,
              "#ed7953"
             ],
             [
              0.7777777777777778,
              "#fb9f3a"
             ],
             [
              0.8888888888888888,
              "#fdca26"
             ],
             [
              1,
              "#f0f921"
             ]
            ],
            "type": "surface"
           }
          ],
          "table": [
           {
            "cells": {
             "fill": {
              "color": "#EBF0F8"
             },
             "line": {
              "color": "white"
             }
            },
            "header": {
             "fill": {
              "color": "#C8D4E3"
             },
             "line": {
              "color": "white"
             }
            },
            "type": "table"
           }
          ]
         },
         "layout": {
          "annotationdefaults": {
           "arrowcolor": "#2a3f5f",
           "arrowhead": 0,
           "arrowwidth": 1
          },
          "autotypenumbers": "strict",
          "coloraxis": {
           "colorbar": {
            "outlinewidth": 0,
            "ticks": ""
           }
          },
          "colorscale": {
           "diverging": [
            [
             0,
             "#8e0152"
            ],
            [
             0.1,
             "#c51b7d"
            ],
            [
             0.2,
             "#de77ae"
            ],
            [
             0.3,
             "#f1b6da"
            ],
            [
             0.4,
             "#fde0ef"
            ],
            [
             0.5,
             "#f7f7f7"
            ],
            [
             0.6,
             "#e6f5d0"
            ],
            [
             0.7,
             "#b8e186"
            ],
            [
             0.8,
             "#7fbc41"
            ],
            [
             0.9,
             "#4d9221"
            ],
            [
             1,
             "#276419"
            ]
           ],
           "sequential": [
            [
             0,
             "#0d0887"
            ],
            [
             0.1111111111111111,
             "#46039f"
            ],
            [
             0.2222222222222222,
             "#7201a8"
            ],
            [
             0.3333333333333333,
             "#9c179e"
            ],
            [
             0.4444444444444444,
             "#bd3786"
            ],
            [
             0.5555555555555556,
             "#d8576b"
            ],
            [
             0.6666666666666666,
             "#ed7953"
            ],
            [
             0.7777777777777778,
             "#fb9f3a"
            ],
            [
             0.8888888888888888,
             "#fdca26"
            ],
            [
             1,
             "#f0f921"
            ]
           ],
           "sequentialminus": [
            [
             0,
             "#0d0887"
            ],
            [
             0.1111111111111111,
             "#46039f"
            ],
            [
             0.2222222222222222,
             "#7201a8"
            ],
            [
             0.3333333333333333,
             "#9c179e"
            ],
            [
             0.4444444444444444,
             "#bd3786"
            ],
            [
             0.5555555555555556,
             "#d8576b"
            ],
            [
             0.6666666666666666,
             "#ed7953"
            ],
            [
             0.7777777777777778,
             "#fb9f3a"
            ],
            [
             0.8888888888888888,
             "#fdca26"
            ],
            [
             1,
             "#f0f921"
            ]
           ]
          },
          "colorway": [
           "#636efa",
           "#EF553B",
           "#00cc96",
           "#ab63fa",
           "#FFA15A",
           "#19d3f3",
           "#FF6692",
           "#B6E880",
           "#FF97FF",
           "#FECB52"
          ],
          "font": {
           "color": "#2a3f5f"
          },
          "geo": {
           "bgcolor": "white",
           "lakecolor": "white",
           "landcolor": "#E5ECF6",
           "showlakes": true,
           "showland": true,
           "subunitcolor": "white"
          },
          "hoverlabel": {
           "align": "left"
          },
          "hovermode": "closest",
          "mapbox": {
           "style": "light"
          },
          "paper_bgcolor": "white",
          "plot_bgcolor": "#E5ECF6",
          "polar": {
           "angularaxis": {
            "gridcolor": "white",
            "linecolor": "white",
            "ticks": ""
           },
           "bgcolor": "#E5ECF6",
           "radialaxis": {
            "gridcolor": "white",
            "linecolor": "white",
            "ticks": ""
           }
          },
          "scene": {
           "xaxis": {
            "backgroundcolor": "#E5ECF6",
            "gridcolor": "white",
            "gridwidth": 2,
            "linecolor": "white",
            "showbackground": true,
            "ticks": "",
            "zerolinecolor": "white"
           },
           "yaxis": {
            "backgroundcolor": "#E5ECF6",
            "gridcolor": "white",
            "gridwidth": 2,
            "linecolor": "white",
            "showbackground": true,
            "ticks": "",
            "zerolinecolor": "white"
           },
           "zaxis": {
            "backgroundcolor": "#E5ECF6",
            "gridcolor": "white",
            "gridwidth": 2,
            "linecolor": "white",
            "showbackground": true,
            "ticks": "",
            "zerolinecolor": "white"
           }
          },
          "shapedefaults": {
           "line": {
            "color": "#2a3f5f"
           }
          },
          "ternary": {
           "aaxis": {
            "gridcolor": "white",
            "linecolor": "white",
            "ticks": ""
           },
           "baxis": {
            "gridcolor": "white",
            "linecolor": "white",
            "ticks": ""
           },
           "bgcolor": "#E5ECF6",
           "caxis": {
            "gridcolor": "white",
            "linecolor": "white",
            "ticks": ""
           }
          },
          "title": {
           "x": 0.05
          },
          "xaxis": {
           "automargin": true,
           "gridcolor": "white",
           "linecolor": "white",
           "ticks": "",
           "title": {
            "standoff": 15
           },
           "zerolinecolor": "white",
           "zerolinewidth": 2
          },
          "yaxis": {
           "automargin": true,
           "gridcolor": "white",
           "linecolor": "white",
           "ticks": "",
           "title": {
            "standoff": 15
           },
           "zerolinecolor": "white",
           "zerolinewidth": 2
          }
         }
        },
        "title": {
         "text": "Top 10 효율적인 트래픽 (pageviews per 1000₩)"
        },
        "xaxis": {
         "anchor": "y",
         "domain": [
          0,
          1
         ],
         "title": {
          "text": "pageviews_per_1000won"
         }
        },
        "yaxis": {
         "anchor": "x",
         "autorange": "reversed",
         "domain": [
          0,
          1
         ],
         "title": {
          "text": "combo"
         }
        }
       }
      }
     },
     "metadata": {},
     "output_type": "display_data"
    },
    {
     "data": {
      "application/vnd.plotly.v1+json": {
       "config": {
        "plotlyServerURL": "https://plotly.com"
       },
       "data": [
        {
         "alignmentgroup": "True",
         "hovertemplate": "pageviews_per_1000won=%{marker.color}<br>combo=%{y}<extra></extra>",
         "legendgroup": "",
         "marker": {
          "color": [
           0.00038249586103619374,
           0.00045030307995183144,
           0.00046858407974655433,
           0.0005998625853246848,
           0.0006943181472502116,
           0.0007318802420367881,
           0.0010149620788637839,
           0.0011744629474557023,
           0.0012198333187224408,
           0.0013423042457546158
          ],
          "coloraxis": "coloraxis",
          "pattern": {
           "shape": ""
          }
         },
         "name": "",
         "offsetgroup": "",
         "orientation": "h",
         "showlegend": false,
         "textposition": "auto",
         "type": "bar",
         "x": [
          0.00038249586103619374,
          0.00045030307995183144,
          0.00046858407974655433,
          0.0005998625853246848,
          0.0006943181472502116,
          0.0007318802420367881,
          0.0010149620788637839,
          0.0011744629474557023,
          0.0012198333187224408,
          0.0013423042457546158
         ],
         "xaxis": "x",
         "y": [
          "referral / seroundtable.com",
          "referral / moma.corp.google.com",
          "referral / quora.com",
          "referral / l.messenger.com",
          "referral / duckduckgo.com",
          "referral / pinterest.com",
          "referral / search.xfinity.com",
          "referral / reddit.com",
          "referral / us-mg5.mail.yahoo.com",
          "referral / trainup.withgoogle.com"
         ],
         "yaxis": "y"
        }
       ],
       "layout": {
        "barmode": "relative",
        "coloraxis": {
         "colorbar": {
          "title": {
           "text": "pageviews_per_1000won"
          }
         },
         "colorscale": [
          [
           0,
           "rgb(255,245,240)"
          ],
          [
           0.125,
           "rgb(254,224,210)"
          ],
          [
           0.25,
           "rgb(252,187,161)"
          ],
          [
           0.375,
           "rgb(252,146,114)"
          ],
          [
           0.5,
           "rgb(251,106,74)"
          ],
          [
           0.625,
           "rgb(239,59,44)"
          ],
          [
           0.75,
           "rgb(203,24,29)"
          ],
          [
           0.875,
           "rgb(165,15,21)"
          ],
          [
           1,
           "rgb(103,0,13)"
          ]
         ]
        },
        "legend": {
         "tracegroupgap": 0
        },
        "template": {
         "data": {
          "bar": [
           {
            "error_x": {
             "color": "#2a3f5f"
            },
            "error_y": {
             "color": "#2a3f5f"
            },
            "marker": {
             "line": {
              "color": "#E5ECF6",
              "width": 0.5
             },
             "pattern": {
              "fillmode": "overlay",
              "size": 10,
              "solidity": 0.2
             }
            },
            "type": "bar"
           }
          ],
          "barpolar": [
           {
            "marker": {
             "line": {
              "color": "#E5ECF6",
              "width": 0.5
             },
             "pattern": {
              "fillmode": "overlay",
              "size": 10,
              "solidity": 0.2
             }
            },
            "type": "barpolar"
           }
          ],
          "carpet": [
           {
            "aaxis": {
             "endlinecolor": "#2a3f5f",
             "gridcolor": "white",
             "linecolor": "white",
             "minorgridcolor": "white",
             "startlinecolor": "#2a3f5f"
            },
            "baxis": {
             "endlinecolor": "#2a3f5f",
             "gridcolor": "white",
             "linecolor": "white",
             "minorgridcolor": "white",
             "startlinecolor": "#2a3f5f"
            },
            "type": "carpet"
           }
          ],
          "choropleth": [
           {
            "colorbar": {
             "outlinewidth": 0,
             "ticks": ""
            },
            "type": "choropleth"
           }
          ],
          "contour": [
           {
            "colorbar": {
             "outlinewidth": 0,
             "ticks": ""
            },
            "colorscale": [
             [
              0,
              "#0d0887"
             ],
             [
              0.1111111111111111,
              "#46039f"
             ],
             [
              0.2222222222222222,
              "#7201a8"
             ],
             [
              0.3333333333333333,
              "#9c179e"
             ],
             [
              0.4444444444444444,
              "#bd3786"
             ],
             [
              0.5555555555555556,
              "#d8576b"
             ],
             [
              0.6666666666666666,
              "#ed7953"
             ],
             [
              0.7777777777777778,
              "#fb9f3a"
             ],
             [
              0.8888888888888888,
              "#fdca26"
             ],
             [
              1,
              "#f0f921"
             ]
            ],
            "type": "contour"
           }
          ],
          "contourcarpet": [
           {
            "colorbar": {
             "outlinewidth": 0,
             "ticks": ""
            },
            "type": "contourcarpet"
           }
          ],
          "heatmap": [
           {
            "colorbar": {
             "outlinewidth": 0,
             "ticks": ""
            },
            "colorscale": [
             [
              0,
              "#0d0887"
             ],
             [
              0.1111111111111111,
              "#46039f"
             ],
             [
              0.2222222222222222,
              "#7201a8"
             ],
             [
              0.3333333333333333,
              "#9c179e"
             ],
             [
              0.4444444444444444,
              "#bd3786"
             ],
             [
              0.5555555555555556,
              "#d8576b"
             ],
             [
              0.6666666666666666,
              "#ed7953"
             ],
             [
              0.7777777777777778,
              "#fb9f3a"
             ],
             [
              0.8888888888888888,
              "#fdca26"
             ],
             [
              1,
              "#f0f921"
             ]
            ],
            "type": "heatmap"
           }
          ],
          "heatmapgl": [
           {
            "colorbar": {
             "outlinewidth": 0,
             "ticks": ""
            },
            "colorscale": [
             [
              0,
              "#0d0887"
             ],
             [
              0.1111111111111111,
              "#46039f"
             ],
             [
              0.2222222222222222,
              "#7201a8"
             ],
             [
              0.3333333333333333,
              "#9c179e"
             ],
             [
              0.4444444444444444,
              "#bd3786"
             ],
             [
              0.5555555555555556,
              "#d8576b"
             ],
             [
              0.6666666666666666,
              "#ed7953"
             ],
             [
              0.7777777777777778,
              "#fb9f3a"
             ],
             [
              0.8888888888888888,
              "#fdca26"
             ],
             [
              1,
              "#f0f921"
             ]
            ],
            "type": "heatmapgl"
           }
          ],
          "histogram": [
           {
            "marker": {
             "pattern": {
              "fillmode": "overlay",
              "size": 10,
              "solidity": 0.2
             }
            },
            "type": "histogram"
           }
          ],
          "histogram2d": [
           {
            "colorbar": {
             "outlinewidth": 0,
             "ticks": ""
            },
            "colorscale": [
             [
              0,
              "#0d0887"
             ],
             [
              0.1111111111111111,
              "#46039f"
             ],
             [
              0.2222222222222222,
              "#7201a8"
             ],
             [
              0.3333333333333333,
              "#9c179e"
             ],
             [
              0.4444444444444444,
              "#bd3786"
             ],
             [
              0.5555555555555556,
              "#d8576b"
             ],
             [
              0.6666666666666666,
              "#ed7953"
             ],
             [
              0.7777777777777778,
              "#fb9f3a"
             ],
             [
              0.8888888888888888,
              "#fdca26"
             ],
             [
              1,
              "#f0f921"
             ]
            ],
            "type": "histogram2d"
           }
          ],
          "histogram2dcontour": [
           {
            "colorbar": {
             "outlinewidth": 0,
             "ticks": ""
            },
            "colorscale": [
             [
              0,
              "#0d0887"
             ],
             [
              0.1111111111111111,
              "#46039f"
             ],
             [
              0.2222222222222222,
              "#7201a8"
             ],
             [
              0.3333333333333333,
              "#9c179e"
             ],
             [
              0.4444444444444444,
              "#bd3786"
             ],
             [
              0.5555555555555556,
              "#d8576b"
             ],
             [
              0.6666666666666666,
              "#ed7953"
             ],
             [
              0.7777777777777778,
              "#fb9f3a"
             ],
             [
              0.8888888888888888,
              "#fdca26"
             ],
             [
              1,
              "#f0f921"
             ]
            ],
            "type": "histogram2dcontour"
           }
          ],
          "mesh3d": [
           {
            "colorbar": {
             "outlinewidth": 0,
             "ticks": ""
            },
            "type": "mesh3d"
           }
          ],
          "parcoords": [
           {
            "line": {
             "colorbar": {
              "outlinewidth": 0,
              "ticks": ""
             }
            },
            "type": "parcoords"
           }
          ],
          "pie": [
           {
            "automargin": true,
            "type": "pie"
           }
          ],
          "scatter": [
           {
            "fillpattern": {
             "fillmode": "overlay",
             "size": 10,
             "solidity": 0.2
            },
            "type": "scatter"
           }
          ],
          "scatter3d": [
           {
            "line": {
             "colorbar": {
              "outlinewidth": 0,
              "ticks": ""
             }
            },
            "marker": {
             "colorbar": {
              "outlinewidth": 0,
              "ticks": ""
             }
            },
            "type": "scatter3d"
           }
          ],
          "scattercarpet": [
           {
            "marker": {
             "colorbar": {
              "outlinewidth": 0,
              "ticks": ""
             }
            },
            "type": "scattercarpet"
           }
          ],
          "scattergeo": [
           {
            "marker": {
             "colorbar": {
              "outlinewidth": 0,
              "ticks": ""
             }
            },
            "type": "scattergeo"
           }
          ],
          "scattergl": [
           {
            "marker": {
             "colorbar": {
              "outlinewidth": 0,
              "ticks": ""
             }
            },
            "type": "scattergl"
           }
          ],
          "scattermapbox": [
           {
            "marker": {
             "colorbar": {
              "outlinewidth": 0,
              "ticks": ""
             }
            },
            "type": "scattermapbox"
           }
          ],
          "scatterpolar": [
           {
            "marker": {
             "colorbar": {
              "outlinewidth": 0,
              "ticks": ""
             }
            },
            "type": "scatterpolar"
           }
          ],
          "scatterpolargl": [
           {
            "marker": {
             "colorbar": {
              "outlinewidth": 0,
              "ticks": ""
             }
            },
            "type": "scatterpolargl"
           }
          ],
          "scatterternary": [
           {
            "marker": {
             "colorbar": {
              "outlinewidth": 0,
              "ticks": ""
             }
            },
            "type": "scatterternary"
           }
          ],
          "surface": [
           {
            "colorbar": {
             "outlinewidth": 0,
             "ticks": ""
            },
            "colorscale": [
             [
              0,
              "#0d0887"
             ],
             [
              0.1111111111111111,
              "#46039f"
             ],
             [
              0.2222222222222222,
              "#7201a8"
             ],
             [
              0.3333333333333333,
              "#9c179e"
             ],
             [
              0.4444444444444444,
              "#bd3786"
             ],
             [
              0.5555555555555556,
              "#d8576b"
             ],
             [
              0.6666666666666666,
              "#ed7953"
             ],
             [
              0.7777777777777778,
              "#fb9f3a"
             ],
             [
              0.8888888888888888,
              "#fdca26"
             ],
             [
              1,
              "#f0f921"
             ]
            ],
            "type": "surface"
           }
          ],
          "table": [
           {
            "cells": {
             "fill": {
              "color": "#EBF0F8"
             },
             "line": {
              "color": "white"
             }
            },
            "header": {
             "fill": {
              "color": "#C8D4E3"
             },
             "line": {
              "color": "white"
             }
            },
            "type": "table"
           }
          ]
         },
         "layout": {
          "annotationdefaults": {
           "arrowcolor": "#2a3f5f",
           "arrowhead": 0,
           "arrowwidth": 1
          },
          "autotypenumbers": "strict",
          "coloraxis": {
           "colorbar": {
            "outlinewidth": 0,
            "ticks": ""
           }
          },
          "colorscale": {
           "diverging": [
            [
             0,
             "#8e0152"
            ],
            [
             0.1,
             "#c51b7d"
            ],
            [
             0.2,
             "#de77ae"
            ],
            [
             0.3,
             "#f1b6da"
            ],
            [
             0.4,
             "#fde0ef"
            ],
            [
             0.5,
             "#f7f7f7"
            ],
            [
             0.6,
             "#e6f5d0"
            ],
            [
             0.7,
             "#b8e186"
            ],
            [
             0.8,
             "#7fbc41"
            ],
            [
             0.9,
             "#4d9221"
            ],
            [
             1,
             "#276419"
            ]
           ],
           "sequential": [
            [
             0,
             "#0d0887"
            ],
            [
             0.1111111111111111,
             "#46039f"
            ],
            [
             0.2222222222222222,
             "#7201a8"
            ],
            [
             0.3333333333333333,
             "#9c179e"
            ],
            [
             0.4444444444444444,
             "#bd3786"
            ],
            [
             0.5555555555555556,
             "#d8576b"
            ],
            [
             0.6666666666666666,
             "#ed7953"
            ],
            [
             0.7777777777777778,
             "#fb9f3a"
            ],
            [
             0.8888888888888888,
             "#fdca26"
            ],
            [
             1,
             "#f0f921"
            ]
           ],
           "sequentialminus": [
            [
             0,
             "#0d0887"
            ],
            [
             0.1111111111111111,
             "#46039f"
            ],
            [
             0.2222222222222222,
             "#7201a8"
            ],
            [
             0.3333333333333333,
             "#9c179e"
            ],
            [
             0.4444444444444444,
             "#bd3786"
            ],
            [
             0.5555555555555556,
             "#d8576b"
            ],
            [
             0.6666666666666666,
             "#ed7953"
            ],
            [
             0.7777777777777778,
             "#fb9f3a"
            ],
            [
             0.8888888888888888,
             "#fdca26"
            ],
            [
             1,
             "#f0f921"
            ]
           ]
          },
          "colorway": [
           "#636efa",
           "#EF553B",
           "#00cc96",
           "#ab63fa",
           "#FFA15A",
           "#19d3f3",
           "#FF6692",
           "#B6E880",
           "#FF97FF",
           "#FECB52"
          ],
          "font": {
           "color": "#2a3f5f"
          },
          "geo": {
           "bgcolor": "white",
           "lakecolor": "white",
           "landcolor": "#E5ECF6",
           "showlakes": true,
           "showland": true,
           "subunitcolor": "white"
          },
          "hoverlabel": {
           "align": "left"
          },
          "hovermode": "closest",
          "mapbox": {
           "style": "light"
          },
          "paper_bgcolor": "white",
          "plot_bgcolor": "#E5ECF6",
          "polar": {
           "angularaxis": {
            "gridcolor": "white",
            "linecolor": "white",
            "ticks": ""
           },
           "bgcolor": "#E5ECF6",
           "radialaxis": {
            "gridcolor": "white",
            "linecolor": "white",
            "ticks": ""
           }
          },
          "scene": {
           "xaxis": {
            "backgroundcolor": "#E5ECF6",
            "gridcolor": "white",
            "gridwidth": 2,
            "linecolor": "white",
            "showbackground": true,
            "ticks": "",
            "zerolinecolor": "white"
           },
           "yaxis": {
            "backgroundcolor": "#E5ECF6",
            "gridcolor": "white",
            "gridwidth": 2,
            "linecolor": "white",
            "showbackground": true,
            "ticks": "",
            "zerolinecolor": "white"
           },
           "zaxis": {
            "backgroundcolor": "#E5ECF6",
            "gridcolor": "white",
            "gridwidth": 2,
            "linecolor": "white",
            "showbackground": true,
            "ticks": "",
            "zerolinecolor": "white"
           }
          },
          "shapedefaults": {
           "line": {
            "color": "#2a3f5f"
           }
          },
          "ternary": {
           "aaxis": {
            "gridcolor": "white",
            "linecolor": "white",
            "ticks": ""
           },
           "baxis": {
            "gridcolor": "white",
            "linecolor": "white",
            "ticks": ""
           },
           "bgcolor": "#E5ECF6",
           "caxis": {
            "gridcolor": "white",
            "linecolor": "white",
            "ticks": ""
           }
          },
          "title": {
           "x": 0.05
          },
          "xaxis": {
           "automargin": true,
           "gridcolor": "white",
           "linecolor": "white",
           "ticks": "",
           "title": {
            "standoff": 15
           },
           "zerolinecolor": "white",
           "zerolinewidth": 2
          },
          "yaxis": {
           "automargin": true,
           "gridcolor": "white",
           "linecolor": "white",
           "ticks": "",
           "title": {
            "standoff": 15
           },
           "zerolinecolor": "white",
           "zerolinewidth": 2
          }
         }
        },
        "title": {
         "text": "Bottom 10 비효율적인 트래픽 (pageviews per 1000₩)"
        },
        "xaxis": {
         "anchor": "y",
         "domain": [
          0,
          1
         ],
         "title": {
          "text": "pageviews_per_1000won"
         }
        },
        "yaxis": {
         "anchor": "x",
         "autorange": "reversed",
         "domain": [
          0,
          1
         ],
         "title": {
          "text": "combo"
         }
        }
       }
      }
     },
     "metadata": {},
     "output_type": "display_data"
    }
   ],
   "source": [
    "import plotly.express as px\n",
    "\n",
    "# 상위 10개 효율적인 트래픽 plotly 시각화\n",
    "fig_top = px.bar(\n",
    "    top10,\n",
    "    x='pageviews_per_1000won',\n",
    "    y='combo',\n",
    "    orientation='h',\n",
    "    color='pageviews_per_1000won',\n",
    "    color_continuous_scale='Blues',\n",
    "    title='Top 10 효율적인 트래픽 (pageviews per 1000₩)'\n",
    ")\n",
    "fig_top.update_layout(yaxis=dict(autorange=\"reversed\"))\n",
    "\n",
    "# 하위 10개 비효율적인 트래픽 plotly 시각화\n",
    "fig_bottom = px.bar(\n",
    "    bottom10,\n",
    "    x='pageviews_per_1000won',\n",
    "    y='combo',\n",
    "    orientation='h',\n",
    "    color='pageviews_per_1000won',\n",
    "    color_continuous_scale='Reds',\n",
    "    title='Bottom 10 비효율적인 트래픽 (pageviews per 1000₩)'\n",
    ")\n",
    "fig_bottom.update_layout(yaxis=dict(autorange=\"reversed\"))\n",
    "\n",
    "fig_top.show()\n",
    "fig_bottom.show()"
   ]
  },
  {
   "cell_type": "markdown",
   "id": "61d52823",
   "metadata": {},
   "source": [
    "# 📊 트래픽 효율성 분석 결과 요약\n",
    "\n",
    "## 📈 Top 10 효율적인 트래픽\n",
    "\n",
    "### ✅ 어떤 조합이 가장 효율적이었나?\n",
    "- **referral / mall.googleplex.com**\n",
    "- **organic / google**\n",
    "- **(none) / (direct)**\n",
    "\n",
    "이 조합들은 **1000원당 평균 3~5회 이상의 페이지뷰(pageviews)**를 발생시킨 유입 경로입니다.\n",
    "\n",
    "### 🔍 왜 효율적일까?\n",
    "- `organic / google`과 `(direct)` 트래픽은 대부분 **유료 광고 없이도 들어온 자연 유입**입니다.\n",
    "- 이는 사용자들이 **브랜드를 인지하고 직접 찾아왔거나**, **검색으로 쉽게 발견된다는 의미**입니다.\n",
    "- → **브랜드 인지도, 콘텐츠 신뢰도, SEO 효과**가 작용했을 가능성이 큽니다.\n",
    "\n",
    "### 💡 인사이트\n",
    "- 이들 트래픽은 **광고비 없이도 높은 성과**를 냈기 때문에,\n",
    "- 예산을 적게 쓰더라도 **지속 유지하거나, 더 강화할 가치가 있는 유입 경로**입니다.\n",
    "\n",
    "---\n",
    "\n",
    "## 📉 Bottom 10 비효율적인 트래픽\n",
    "\n",
    "### ⚠️ 어떤 조합이 비효율적이었나?\n",
    "- **referral / trainup.withgoogle.com**\n",
    "- **referral / reddit.com**\n",
    "- **referral / quora.com**\n",
    "- 등 다양한 리퍼럴 기반 유입 경로들\n",
    "\n",
    "이 조합들은 **1000원당 평균 0.001 pageviews 이하**의 매우 낮은 성과를 보였습니다.\n",
    "\n",
    "### 🔍 왜 비효율적일까?\n",
    "- 대부분의 유입이 특정 외부 사이트에서 발생했지만,\n",
    "- 실제로는 **사용자가 거의 페이지를 보지 않거나**, **바로 이탈했을 가능성**이 있습니다.\n",
    "- 예산이 투입되었음에도 **성과(조회수)가 거의 없었다**는 뜻입니다.\n",
    "\n",
    "### ⚠️ 인사이트\n",
    "- 이런 트래픽은 **광고 효율이 매우 낮은 채널**로 판단되며,\n",
    "- 향후 **광고 중단 또는 개선 테스트(A/B Test)**가 필요합니다.\n",
    "- 또는 **랜딩 페이지 품질이나 타겟팅 자체가 부적절했을 가능성**도 고려해볼 수 있습니다.\n",
    "\n",
    "---\n",
    "\n",
    "## 🧠 요약 정리\n",
    "\n",
    "| 항목 | 요약 |\n",
    "|------|------|\n",
    "| ✅ 효율 유입 | 검색(organic), 직접방문(direct)은 ROI가 높음 → **유지·강화 대상** |\n",
    "| ❌ 비효율 유입 | 외부 referral 중 일부는 ROI가 매우 낮음 → **개선 or 예산 축소 대상** |\n",
    "| 💡 시사점 | 광고 예산은 단순 유입수가 아닌 **성과 기준**으로 재조정해야 함 |\n",
    "\n"
   ]
  },
  {
   "cell_type": "markdown",
   "id": "a4a7501e",
   "metadata": {},
   "source": [
    "📌 [주제1] 예산 대비 총성과 대비 분석\n",
    "예산 대비 얻은 전체 pageviews, hits, visits의 총합을 비교해, 효율적인 투자 채널을 객관적으로 구분할 수 있습니다."
   ]
  },
  {
   "cell_type": "code",
   "execution_count": 9,
   "id": "41f25dd2",
   "metadata": {},
   "outputs": [
    {
     "name": "stdout",
     "output_type": "stream",
     "text": [
      "✅ Top10 평균 효율성: 1.449 / Bottom10 평균: 0.000808 → 1794.05배 차이\n",
      "📊 Top10 총 pageviews: 318744, Bottom10: 240\n"
     ]
    }
   ],
   "source": [
    "# 성과 총합과 평균 효율 비교\n",
    "top_avg = top10['pageviews_per_1000won'].mean()\n",
    "bottom_avg = bottom10['pageviews_per_1000won'].mean()\n",
    "ratio = round(top_avg / bottom_avg, 2) if bottom_avg > 0 else \"Infinity\"\n",
    "\n",
    "top_sum = top10['pageviews'].sum()\n",
    "bottom_sum = bottom10['pageviews'].sum()\n",
    "\n",
    "print(f\"✅ Top10 평균 효율성: {top_avg:.3f} / Bottom10 평균: {bottom_avg:.6f} → {ratio}배 차이\")\n",
    "print(f\"📊 Top10 총 pageviews: {top_sum}, Bottom10: {bottom_sum}\")\n"
   ]
  },
  {
   "cell_type": "markdown",
   "id": "59811053",
   "metadata": {},
   "source": [
    "📌 [주제2] 예산은 높은데 성과는 낮은 ‘비효율 투자 후보군’ 탐색\n",
    "예산은 상위지만, 효율은 하위인 비정상 트래픽을 찾아내서 개선/중단 판단 근거 제공"
   ]
  },
  {
   "cell_type": "code",
   "execution_count": 10,
   "id": "aa1424c2",
   "metadata": {},
   "outputs": [
    {
     "data": {
      "text/html": [
       "<div>\n",
       "<style scoped>\n",
       "    .dataframe tbody tr th:only-of-type {\n",
       "        vertical-align: middle;\n",
       "    }\n",
       "\n",
       "    .dataframe tbody tr th {\n",
       "        vertical-align: top;\n",
       "    }\n",
       "\n",
       "    .dataframe thead th {\n",
       "        text-align: right;\n",
       "    }\n",
       "</style>\n",
       "<table border=\"1\" class=\"dataframe\">\n",
       "  <thead>\n",
       "    <tr style=\"text-align: right;\">\n",
       "      <th></th>\n",
       "      <th>source</th>\n",
       "      <th>medium</th>\n",
       "      <th>budget</th>\n",
       "      <th>pageviews_per_1000won</th>\n",
       "    </tr>\n",
       "  </thead>\n",
       "  <tbody>\n",
       "    <tr>\n",
       "      <th>11</th>\n",
       "      <td>duckduckgo.com</td>\n",
       "      <td>referral</td>\n",
       "      <td>46088382</td>\n",
       "      <td>0.000694</td>\n",
       "    </tr>\n",
       "    <tr>\n",
       "      <th>33</th>\n",
       "      <td>pinterest.com</td>\n",
       "      <td>referral</td>\n",
       "      <td>45089344</td>\n",
       "      <td>0.000732</td>\n",
       "    </tr>\n",
       "    <tr>\n",
       "      <th>43</th>\n",
       "      <td>trainup.withgoogle.com</td>\n",
       "      <td>referral</td>\n",
       "      <td>43209280</td>\n",
       "      <td>0.001342</td>\n",
       "    </tr>\n",
       "    <tr>\n",
       "      <th>35</th>\n",
       "      <td>quora.com</td>\n",
       "      <td>referral</td>\n",
       "      <td>38413597</td>\n",
       "      <td>0.000469</td>\n",
       "    </tr>\n",
       "  </tbody>\n",
       "</table>\n",
       "</div>"
      ],
      "text/plain": [
       "                    source    medium    budget  pageviews_per_1000won\n",
       "11          duckduckgo.com  referral  46088382               0.000694\n",
       "33           pinterest.com  referral  45089344               0.000732\n",
       "43  trainup.withgoogle.com  referral  43209280               0.001342\n",
       "35               quora.com  referral  38413597               0.000469"
      ]
     },
     "execution_count": 10,
     "metadata": {},
     "output_type": "execute_result"
    }
   ],
   "source": [
    "# 예산 상위 20% & 효율 하위 20% 교집합 추출\n",
    "budget_threshold = agg_df_sm['budget'].quantile(0.8)\n",
    "eff_threshold = agg_df_sm['pageviews_per_1000won'].quantile(0.2)\n",
    "\n",
    "inefficient_candidates = agg_df_sm[\n",
    "    (agg_df_sm['budget'] >= budget_threshold) &\n",
    "    (agg_df_sm['pageviews_per_1000won'] <= eff_threshold)\n",
    "][['source', 'medium', 'budget', 'pageviews_per_1000won']].sort_values(by='budget', ascending=False)\n",
    "\n",
    "inefficient_candidates\n"
   ]
  },
  {
   "cell_type": "code",
   "execution_count": null,
   "id": "52a5e8cb",
   "metadata": {},
   "outputs": [],
   "source": []
  }
 ],
 "metadata": {
  "kernelspec": {
   "display_name": "base",
   "language": "python",
   "name": "python3"
  },
  "language_info": {
   "codemirror_mode": {
    "name": "ipython",
    "version": 3
   },
   "file_extension": ".py",
   "mimetype": "text/x-python",
   "name": "python",
   "nbconvert_exporter": "python",
   "pygments_lexer": "ipython3",
   "version": "3.12.4"
  }
 },
 "nbformat": 4,
 "nbformat_minor": 5
}
